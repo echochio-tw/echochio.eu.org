{
  "metadata": {
    "kernelspec": {
      "name": "python",
      "display_name": "Pyolite",
      "language": "python"
    },
    "language_info": {
      "codemirror_mode": {
        "name": "python",
        "version": 3
      },
      "file_extension": ".py",
      "mimetype": "text/x-python",
      "name": "python",
      "nbconvert_exporter": "python",
      "pygments_lexer": "ipython3",
      "version": "3.8"
    },
    "colab": {
      "name": "DA0101EN-4-Review-Model-Development.jupyterlite.ipynb",
      "provenance": []
    }
  },
  "nbformat_minor": 0,
  "nbformat": 4,
  "cells": [
    {
      "cell_type": "markdown",
      "source": [
        "<center>\n",
        "    <img src=\"https://cf-courses-data.s3.us.cloud-object-storage.appdomain.cloud/IBMDeveloperSkillsNetwork-DA0101EN-SkillsNetwork/labs/Module%204/images/IDSNlogo.png\" width=\"300\" alt=\"cognitiveclass.ai logo\"  />\n",
        "</center>\n",
        "\n",
        "# Model Development\n",
        "\n",
        "Estimated time needed: **30** minutes\n",
        "\n",
        "## Objectives\n",
        "\n",
        "After completing this lab you will be able to:\n",
        "\n",
        "*   Develop prediction models\n"
      ],
      "metadata": {
        "id": "x7K5--A7WRGv"
      }
    },
    {
      "cell_type": "markdown",
      "source": [
        "<p>In this section, we will develop several models that will predict the price of the car using the variables or features. This is just an estimate but should give us an objective idea of how much the car should cost.</p>\n"
      ],
      "metadata": {
        "id": "D3lloRN5WRGx"
      }
    },
    {
      "cell_type": "markdown",
      "source": [
        "Some questions we want to ask in this module\n",
        "\n",
        "<ul>\n",
        "    <li>Do I know if the dealer is offering fair value for my trade-in?</li>\n",
        "    <li>Do I know if I put a fair value on my car?</li>\n",
        "</ul>\n",
        "<p>In data analytics, we often use <b>Model Development</b> to help us predict future observations from the data we have.</p>\n",
        "\n",
        "<p>A model will help us understand the exact relationship between different variables and how these variables are used to predict the result.</p>\n"
      ],
      "metadata": {
        "id": "iRlbuw5DWRGy"
      }
    },
    {
      "cell_type": "markdown",
      "source": [
        "<h4>Setup</h4>\n"
      ],
      "metadata": {
        "id": "IsNpoMyTWRGy"
      }
    },
    {
      "cell_type": "markdown",
      "source": [
        "Import libraries:\n"
      ],
      "metadata": {
        "id": "yARPfN11WRGz"
      }
    },
    {
      "cell_type": "markdown",
      "source": [
        "you are running the lab in your  browser, so we will install the libraries \n"
      ],
      "metadata": {
        "id": "IHRd1wBwWRGz"
      }
    },
    {
      "cell_type": "code",
      "source": [
        "import warnings\n",
        "warnings.filterwarnings(\"ignore\")\n",
        "import scipy\n",
        "import seaborn\n",
        "import sklearn\n",
        "import pandas as pd\n",
        "import numpy as np\n",
        "import matplotlib.pyplot as plt\n"
      ],
      "metadata": {
        "trusted": true,
        "id": "BW6LsRW3WRGz"
      },
      "execution_count": 1,
      "outputs": []
    },
    {
      "cell_type": "markdown",
      "source": [
        "If you run the lab locally using Anaconda, you can load the correct library and versions by uncommenting the following:\n"
      ],
      "metadata": {
        "id": "xiQ_YGTTWRG1"
      }
    },
    {
      "cell_type": "code",
      "source": [
        "#If you run the lab locally using Anaconda, you can load the correct library and versions by uncommenting the following:\n",
        "#install specific version of libraries used in lab\n",
        "#! mamba install pandas==1.3.3-y\n",
        "#! mamba install numpy=1.21.2-y\n",
        "#! mamba install sklearn=0.20.1-y"
      ],
      "metadata": {
        "trusted": true,
        "id": "iH43SQm0WRG1"
      },
      "execution_count": 2,
      "outputs": []
    },
    {
      "cell_type": "markdown",
      "source": [
        "This dataset was hosted on IBM Cloud object. Click <a href=\"https://cocl.us/DA101EN_object_storage?utm_medium=Exinfluencer&utm_source=Exinfluencer&utm_content=000026UJ&utm_term=10006555&utm_id=NA-SkillsNetwork-Channel-SkillsNetworkCoursesIBMDeveloperSkillsNetworkDA0101ENSkillsNetwork20235326-2021-01-01\">HERE</a> for free storage.\n"
      ],
      "metadata": {
        "id": "l3AjW5IyWRG3"
      }
    },
    {
      "cell_type": "markdown",
      "source": [
        "Load the data and store it in dataframe `df`:\n"
      ],
      "metadata": {
        "id": "gmZqm6WxWRG5"
      }
    },
    {
      "cell_type": "code",
      "source": [
        "path = 'https://cf-courses-data.s3.us.cloud-object-storage.appdomain.cloud/IBMDeveloperSkillsNetwork-DA0101EN-SkillsNetwork/labs/Data%20files/automobileEDA.csv'\n",
        "df = pd.read_csv(path)\n",
        "print (df.head())"
      ],
      "metadata": {
        "trusted": true,
        "colab": {
          "base_uri": "https://localhost:8080/",
          "height": 0
        },
        "id": "pxn6LGLSWRG5",
        "outputId": "7473bf5b-2233-47a1-b9ae-832fb423aeb2"
      },
      "execution_count": 4,
      "outputs": [
        {
          "output_type": "stream",
          "name": "stdout",
          "text": [
            "   symboling  normalized-losses         make aspiration num-of-doors  \\\n",
            "0          3                122  alfa-romero        std          two   \n",
            "1          3                122  alfa-romero        std          two   \n",
            "2          1                122  alfa-romero        std          two   \n",
            "3          2                164         audi        std         four   \n",
            "4          2                164         audi        std         four   \n",
            "\n",
            "    body-style drive-wheels engine-location  wheel-base    length  ...  \\\n",
            "0  convertible          rwd           front        88.6  0.811148  ...   \n",
            "1  convertible          rwd           front        88.6  0.811148  ...   \n",
            "2    hatchback          rwd           front        94.5  0.822681  ...   \n",
            "3        sedan          fwd           front        99.8  0.848630  ...   \n",
            "4        sedan          4wd           front        99.4  0.848630  ...   \n",
            "\n",
            "   compression-ratio  horsepower  peak-rpm city-mpg highway-mpg    price  \\\n",
            "0                9.0       111.0    5000.0       21          27  13495.0   \n",
            "1                9.0       111.0    5000.0       21          27  16500.0   \n",
            "2                9.0       154.0    5000.0       19          26  16500.0   \n",
            "3               10.0       102.0    5500.0       24          30  13950.0   \n",
            "4                8.0       115.0    5500.0       18          22  17450.0   \n",
            "\n",
            "  city-L/100km  horsepower-binned  diesel  gas  \n",
            "0    11.190476             Medium       0    1  \n",
            "1    11.190476             Medium       0    1  \n",
            "2    12.368421             Medium       0    1  \n",
            "3     9.791667             Medium       0    1  \n",
            "4    13.055556             Medium       0    1  \n",
            "\n",
            "[5 rows x 29 columns]\n"
          ]
        }
      ]
    },
    {
      "cell_type": "markdown",
      "source": [
        "<h2>1. Linear Regression and Multiple Linear Regression</h2>\n"
      ],
      "metadata": {
        "id": "DXVYGdZXWRG5"
      }
    },
    {
      "cell_type": "markdown",
      "source": [
        "<h4>Linear Regression</h4>\n"
      ],
      "metadata": {
        "id": "diCicgAyWRG5"
      }
    },
    {
      "cell_type": "markdown",
      "source": [
        "<p>One example of a Data  Model that we will be using is:</p>\n",
        "<b>Simple Linear Regression</b>\n",
        "\n",
        "<br>\n",
        "<p>Simple Linear Regression is a method to help us understand the relationship between two variables:</p>\n",
        "<ul>\n",
        "    <li>The predictor/independent variable (X)</li>\n",
        "    <li>The response/dependent variable (that we want to predict)(Y)</li>\n",
        "</ul>\n",
        "\n",
        "<p>The result of Linear Regression is a <b>linear function</b> that predicts the response (dependent) variable as a function of the predictor (independent) variable.</p>\n"
      ],
      "metadata": {
        "id": "VelRPkT6WRG6"
      }
    },
    {
      "cell_type": "markdown",
      "source": [
        "$$\n",
        "Y: Response \\ Variable\\\\\\\\\\\\\\\\\\\\\n",
        "X: Predictor \\ Variables\n",
        "$$\n"
      ],
      "metadata": {
        "id": "-crYdgTBWRG6"
      }
    },
    {
      "cell_type": "markdown",
      "source": [
        "<b>Linear Function</b>\n",
        "$$\n",
        "Yhat = a + b  X\n",
        "$$\n"
      ],
      "metadata": {
        "id": "J_puSlfMWRG6"
      }
    },
    {
      "cell_type": "markdown",
      "source": [
        "<ul>\n",
        "    <li>a refers to the <b>intercept</b> of the regression line, in other words: the value of Y when X is 0</li>\n",
        "    <li>b refers to the <b>slope</b> of the regression line, in other words: the value with which Y changes when X increases by 1 unit</li>\n",
        "</ul>\n"
      ],
      "metadata": {
        "id": "gDl2IT-DWRG6"
      }
    },
    {
      "cell_type": "markdown",
      "source": [
        "<h4>Let's load the modules for linear regression:</h4>\n"
      ],
      "metadata": {
        "id": "dK24jIPtWRG7"
      }
    },
    {
      "cell_type": "code",
      "source": [
        "from sklearn.linear_model import LinearRegression"
      ],
      "metadata": {
        "trusted": true,
        "id": "16Z0kdqPWRG7"
      },
      "execution_count": 5,
      "outputs": []
    },
    {
      "cell_type": "markdown",
      "source": [
        "<h4>Create the linear regression object:</h4>\n"
      ],
      "metadata": {
        "id": "hre1sQAOWRG7"
      }
    },
    {
      "cell_type": "code",
      "source": [
        "lm = LinearRegression()\n",
        "lm"
      ],
      "metadata": {
        "trusted": true,
        "colab": {
          "base_uri": "https://localhost:8080/",
          "height": 0
        },
        "id": "VrNmjKU5WRG7",
        "outputId": "532b8e2e-0bca-494e-f049-a2b4afe4f491"
      },
      "execution_count": 6,
      "outputs": [
        {
          "output_type": "execute_result",
          "data": {
            "text/plain": [
              "LinearRegression()"
            ]
          },
          "metadata": {},
          "execution_count": 6
        }
      ]
    },
    {
      "cell_type": "markdown",
      "source": [
        "<h4>How could \"highway-mpg\" help us predict car price?</h4>\n"
      ],
      "metadata": {
        "id": "lRic1IrtWRG7"
      }
    },
    {
      "cell_type": "markdown",
      "source": [
        "For this example, we want to look at how highway-mpg can help us predict car price.\n",
        "Using simple linear regression, we will create a linear function with \"highway-mpg\" as the predictor variable and the \"price\" as the response variable.\n"
      ],
      "metadata": {
        "id": "wRSrmJTfWRG7"
      }
    },
    {
      "cell_type": "code",
      "source": [
        "X = df[['highway-mpg']]\n",
        "Y = df['price']"
      ],
      "metadata": {
        "trusted": true,
        "id": "jUvhi1TaWRG8"
      },
      "execution_count": 7,
      "outputs": []
    },
    {
      "cell_type": "markdown",
      "source": [
        "Fit the linear model using highway-mpg:\n"
      ],
      "metadata": {
        "id": "B45lBNhgWRG8"
      }
    },
    {
      "cell_type": "code",
      "source": [
        "lm.fit(X,Y)"
      ],
      "metadata": {
        "trusted": true,
        "colab": {
          "base_uri": "https://localhost:8080/",
          "height": 0
        },
        "id": "bIiRlOWzWRG8",
        "outputId": "53acd9ab-894d-4550-f822-be2651d441aa"
      },
      "execution_count": 8,
      "outputs": [
        {
          "output_type": "execute_result",
          "data": {
            "text/plain": [
              "LinearRegression()"
            ]
          },
          "metadata": {},
          "execution_count": 8
        }
      ]
    },
    {
      "cell_type": "markdown",
      "source": [
        "We can output a prediction:\n"
      ],
      "metadata": {
        "id": "aYAg0a6pWRG8"
      }
    },
    {
      "cell_type": "code",
      "source": [
        "Yhat=lm.predict(X)\n",
        "Yhat[0:5]   "
      ],
      "metadata": {
        "trusted": true,
        "colab": {
          "base_uri": "https://localhost:8080/",
          "height": 0
        },
        "id": "EhqMz9TNWRG8",
        "outputId": "9a2e5679-9d7d-44d4-b05c-7477a9b58dda"
      },
      "execution_count": 9,
      "outputs": [
        {
          "output_type": "execute_result",
          "data": {
            "text/plain": [
              "array([16236.50464347, 16236.50464347, 17058.23802179, 13771.3045085 ,\n",
              "       20345.17153508])"
            ]
          },
          "metadata": {},
          "execution_count": 9
        }
      ]
    },
    {
      "cell_type": "markdown",
      "source": [
        "<h4>What is the value of the intercept (a)?</h4>\n"
      ],
      "metadata": {
        "id": "uYoJDPgvWRG8"
      }
    },
    {
      "cell_type": "code",
      "source": [
        "lm.intercept_"
      ],
      "metadata": {
        "trusted": true,
        "colab": {
          "base_uri": "https://localhost:8080/",
          "height": 0
        },
        "id": "-sJxnic8WRG9",
        "outputId": "3fc80559-d231-4a25-bb79-e0dd6b222f25"
      },
      "execution_count": 10,
      "outputs": [
        {
          "output_type": "execute_result",
          "data": {
            "text/plain": [
              "38423.3058581574"
            ]
          },
          "metadata": {},
          "execution_count": 10
        }
      ]
    },
    {
      "cell_type": "markdown",
      "source": [
        "<h4>What is the value of the slope (b)?</h4>\n"
      ],
      "metadata": {
        "id": "FGQOOn6QWRG9"
      }
    },
    {
      "cell_type": "code",
      "source": [
        "lm.coef_"
      ],
      "metadata": {
        "scrolled": true,
        "trusted": true,
        "colab": {
          "base_uri": "https://localhost:8080/",
          "height": 0
        },
        "id": "XOmQRXnUWRG9",
        "outputId": "a00f373f-4cf8-4c12-e556-e4be9e3824eb"
      },
      "execution_count": 11,
      "outputs": [
        {
          "output_type": "execute_result",
          "data": {
            "text/plain": [
              "array([-821.73337832])"
            ]
          },
          "metadata": {},
          "execution_count": 11
        }
      ]
    },
    {
      "cell_type": "markdown",
      "source": [
        "<h3>What is the final estimated linear model we get?</h3>\n"
      ],
      "metadata": {
        "id": "bSZ0AnsaWRG9"
      }
    },
    {
      "cell_type": "markdown",
      "source": [
        "As we saw above, we should get a final linear model with the structure:\n"
      ],
      "metadata": {
        "id": "IwtEXnKuWRG9"
      }
    },
    {
      "cell_type": "code",
      "source": [
        "print (\"Price = \", end='') #用 end='' 表示print 後不加 enter\n",
        "print (lm.intercept_.round(2), end='')\n",
        "print(lm.coef_[0].round(2), end='') # 用 f 表示 format 且後面可加用 end='' 表示print 後不加 enter\n",
        "print(' x highway-mpg')"
      ],
      "metadata": {
        "colab": {
          "base_uri": "https://localhost:8080/",
          "height": 0
        },
        "id": "StaNnbR3XY5t",
        "outputId": "8e2a9b49-6fb9-4dc3-ee78-ffa6bbf2c793"
      },
      "execution_count": 16,
      "outputs": [
        {
          "output_type": "stream",
          "name": "stdout",
          "text": [
            "Price = 38423.31-821.73 x highway-mpg\n"
          ]
        }
      ]
    },
    {
      "cell_type": "markdown",
      "source": [
        "$$\n",
        "Yhat = a + b  X\n",
        "$$\n"
      ],
      "metadata": {
        "id": "Pp86smVCWRG-"
      }
    },
    {
      "cell_type": "markdown",
      "source": [
        "Plugging in the actual values we get:\n"
      ],
      "metadata": {
        "id": "bEhyhjYCWRG-"
      }
    },
    {
      "cell_type": "markdown",
      "source": [
        "<b>Price</b> = 38423.31 - 821.73 x <b>highway-mpg</b>\n"
      ],
      "metadata": {
        "id": "TyRJ3soPWRG-"
      }
    },
    {
      "cell_type": "markdown",
      "source": [
        "<div class=\"alert alert-danger alertdanger\" style=\"margin-top: 20px\">\n",
        "<h1>Question #1 a): </h1>\n",
        "\n",
        "<b>Create a linear regression object called \"lm1\".</b>\n",
        "\n",
        "</div>\n"
      ],
      "metadata": {
        "id": "fqp9Mm4jWRG-"
      }
    },
    {
      "cell_type": "code",
      "source": [
        "lm1 = LinearRegression() #建立模型物件\n"
      ],
      "metadata": {
        "trusted": true,
        "id": "pb2-FKsSWRG-"
      },
      "execution_count": 17,
      "outputs": []
    },
    {
      "cell_type": "markdown",
      "source": [
        "<details><summary>Click here for the solution</summary>\n",
        "\n",
        "```python\n",
        "lm1 = LinearRegression()\n",
        "lm1\n",
        "```\n",
        "\n",
        "</details>\n"
      ],
      "metadata": {
        "id": "MGNaS2ajWRG-"
      }
    },
    {
      "cell_type": "markdown",
      "source": [
        "<div class=\"alert alert-danger alertdanger\" style=\"margin-top: 20px\">\n",
        "<h1> Question #1 b): </h1>\n",
        "\n",
        "<b>Train the model using \"engine-size\" as the independent variable and \"price\" as the dependent variable?</b>\n",
        "\n",
        "</div>\n"
      ],
      "metadata": {
        "id": "o7DunndQWRG_"
      }
    },
    {
      "cell_type": "code",
      "source": [
        "lm1.fit(df[['engine-size']],df['price']) #建立模型 Y=price, X=engine-size"
      ],
      "metadata": {
        "trusted": true,
        "colab": {
          "base_uri": "https://localhost:8080/",
          "height": 0
        },
        "id": "bopLLg8iWRG_",
        "outputId": "b51a7b84-0261-42be-eb6e-5e67829d3f8d"
      },
      "execution_count": 18,
      "outputs": [
        {
          "output_type": "execute_result",
          "data": {
            "text/plain": [
              "LinearRegression()"
            ]
          },
          "metadata": {},
          "execution_count": 18
        }
      ]
    },
    {
      "cell_type": "markdown",
      "source": [
        "<details><summary>Click here for the solution</summary>\n",
        "\n",
        "```python\n",
        "lm1.fit(df[['engine-size']], df[['price']])\n",
        "lm1\n",
        "```\n",
        "\n",
        "</details>\n"
      ],
      "metadata": {
        "id": "Ei7UbaS9WRG_"
      }
    },
    {
      "cell_type": "markdown",
      "source": [
        "<div class=\"alert alert-danger alertdanger\" style=\"margin-top: 20px\">\n",
        "<h1>Question #1 c):</h1>\n",
        "\n",
        "<b>Find the slope and intercept of the model.</b>\n",
        "\n",
        "</div>\n"
      ],
      "metadata": {
        "id": "tHQV23j9WRG_"
      }
    },
    {
      "cell_type": "markdown",
      "source": [
        "<h4>Slope</h4>\n"
      ],
      "metadata": {
        "id": "-WrVp4Q8WRG_"
      }
    },
    {
      "cell_type": "code",
      "source": [
        "print (lm1.intercept_) #截距"
      ],
      "metadata": {
        "trusted": true,
        "colab": {
          "base_uri": "https://localhost:8080/",
          "height": 0
        },
        "id": "8sxPSFe2WRG_",
        "outputId": "27a97820-b4ed-432e-9bbb-62f60482cf71"
      },
      "execution_count": 19,
      "outputs": [
        {
          "output_type": "stream",
          "name": "stdout",
          "text": [
            "-7963.338906281042\n"
          ]
        }
      ]
    },
    {
      "cell_type": "markdown",
      "source": [
        "<details><summary>Click here for the solution</summary>\n",
        "\n",
        "```python\n",
        "# Slope \n",
        "lm1.coef_\n",
        "\n",
        "```\n",
        "\n",
        "</details>\n"
      ],
      "metadata": {
        "id": "V7ZEabHwWRHA"
      }
    },
    {
      "cell_type": "markdown",
      "source": [
        "<h4>Intercept</h4>\n"
      ],
      "metadata": {
        "id": "2bDBUs3TWRHA"
      }
    },
    {
      "cell_type": "code",
      "source": [
        "print (lm1.coef_) #斜率"
      ],
      "metadata": {
        "trusted": true,
        "colab": {
          "base_uri": "https://localhost:8080/",
          "height": 0
        },
        "id": "n0COqJXUWRHA",
        "outputId": "3eeedfdc-1269-4bb0-b6c6-e22ee5b84639"
      },
      "execution_count": 20,
      "outputs": [
        {
          "output_type": "stream",
          "name": "stdout",
          "text": [
            "[166.86001569]\n"
          ]
        }
      ]
    },
    {
      "cell_type": "markdown",
      "source": [
        "<details><summary>Click here for the solution</summary>\n",
        "\n",
        "```python\n",
        "\n",
        "# Intercept\n",
        "lm1.intercept_\n",
        "```\n",
        "\n",
        "</details>\n"
      ],
      "metadata": {
        "id": "kBVAtM-DWRHA"
      }
    },
    {
      "cell_type": "markdown",
      "source": [
        "<div class=\"alert alert-danger alertdanger\" style=\"margin-top: 20px\">\n",
        "<h1>Question #1 d): </h1>\n",
        "\n",
        "<b>What is the equation of the predicted line? You can use x and yhat or \"engine-size\" or \"price\".</b>\n",
        "\n",
        "</div>\n"
      ],
      "metadata": {
        "id": "RsGzVg8SWRHA"
      }
    },
    {
      "cell_type": "code",
      "source": [
        "print (\"{0} = {1} + {2}*X\".format('Yhat', lm1.intercept_.round(3), float(lm1.coef_.round(3))))"
      ],
      "metadata": {
        "trusted": true,
        "colab": {
          "base_uri": "https://localhost:8080/",
          "height": 0
        },
        "id": "NXNiC3BaWRHB",
        "outputId": "4afcf4d8-1ccb-4a17-8b00-abf4c62db35c"
      },
      "execution_count": 21,
      "outputs": [
        {
          "output_type": "stream",
          "name": "stdout",
          "text": [
            "Yhat = -7963.339 + 166.86*X\n"
          ]
        }
      ]
    },
    {
      "cell_type": "markdown",
      "source": [
        "<details><summary>Click here for the solution</summary>\n",
        "\n",
        "```python\n",
        "# using X and Y  \n",
        "Yhat=-7963.34 + 166.86*X\n",
        "\n",
        "Price=-7963.34 + 166.86*engine-size\n",
        "\n",
        "```\n",
        "\n",
        "</details>\n"
      ],
      "metadata": {
        "id": "7CDg-yaeWRHB"
      }
    },
    {
      "cell_type": "markdown",
      "source": [
        "<h4>Multiple Linear Regression</h4>\n"
      ],
      "metadata": {
        "id": "OLdPvjHnWRHB"
      }
    },
    {
      "cell_type": "markdown",
      "source": [
        "<p>What if we want to predict car price using more than one variable?</p>\n",
        "\n",
        "<p>If we want to use more variables in our model to predict car price, we can use <b>Multiple Linear Regression</b>.\n",
        "Multiple Linear Regression is very similar to Simple Linear Regression, but this method is used to explain the relationship between one continuous response (dependent) variable and <b>two or more</b> predictor (independent) variables.\n",
        "Most of the real-world regression models involve multiple predictors. We will illustrate the structure by using four predictor variables, but these results can generalize to any integer:</p>\n"
      ],
      "metadata": {
        "id": "dN9woQCTWRHB"
      }
    },
    {
      "cell_type": "markdown",
      "source": [
        "$$\n",
        "Y: Response \\ Variable\\\\\\\\\\\\\\\\\\\\\n",
        "X\\_1 :Predictor\\ Variable \\ 1\\\\\\\\\n",
        "X\\_2: Predictor\\ Variable \\ 2\\\\\\\\\n",
        "X\\_3: Predictor\\ Variable \\ 3\\\\\\\\\n",
        "X\\_4: Predictor\\ Variable \\ 4\\\\\\\\\n",
        "$$\n"
      ],
      "metadata": {
        "id": "wvlvCc8kWRHB"
      }
    },
    {
      "cell_type": "markdown",
      "source": [
        "$$\n",
        "a: intercept\\\\\\\\\\\\\\\\\\\\\n",
        "b\\_1 :coefficients \\ of\\ Variable \\ 1\\\\\\\\\n",
        "b\\_2: coefficients \\ of\\ Variable \\ 2\\\\\\\\\n",
        "b\\_3: coefficients \\ of\\ Variable \\ 3\\\\\\\\\n",
        "b\\_4: coefficients \\ of\\ Variable \\ 4\\\\\\\\\n",
        "$$\n"
      ],
      "metadata": {
        "id": "QLnOcFf5WRHB"
      }
    },
    {
      "cell_type": "markdown",
      "source": [
        "The equation is given by:\n"
      ],
      "metadata": {
        "id": "lzrRQ3foWRHC"
      }
    },
    {
      "cell_type": "markdown",
      "source": [
        "$$\n",
        "Yhat = a + b\\_1 X\\_1 + b\\_2 X\\_2 + b\\_3 X\\_3 + b\\_4 X\\_4\n",
        "$$\n"
      ],
      "metadata": {
        "id": "kZtZuQo2WRHC"
      }
    },
    {
      "cell_type": "markdown",
      "source": [
        "<p>From the previous section  we know that other good predictors of price could be:</p>\n",
        "<ul>\n",
        "    <li>Horsepower</li>\n",
        "    <li>Curb-weight</li>\n",
        "    <li>Engine-size</li>\n",
        "    <li>Highway-mpg</li>\n",
        "</ul>\n",
        "Let's develop a model using these variables as the predictor variables.\n"
      ],
      "metadata": {
        "id": "eK6pf_rXWRHC"
      }
    },
    {
      "cell_type": "code",
      "source": [
        "Zinfo = ['horsepower', 'curb-weight', 'engine-size', 'highway-mpg']\n",
        "Z = df[Zinfo]"
      ],
      "metadata": {
        "trusted": true,
        "id": "f7DSLfCpWRHC"
      },
      "execution_count": 22,
      "outputs": []
    },
    {
      "cell_type": "markdown",
      "source": [
        "Fit the linear model using the four above-mentioned variables.\n"
      ],
      "metadata": {
        "id": "sMY3Chc2WRHC"
      }
    },
    {
      "cell_type": "code",
      "source": [
        "lm.fit(Z, df['price'])"
      ],
      "metadata": {
        "trusted": true,
        "colab": {
          "base_uri": "https://localhost:8080/",
          "height": 0
        },
        "id": "nshIznSGWRHC",
        "outputId": "6031b291-3001-4058-be06-4912e514dfbf"
      },
      "execution_count": 23,
      "outputs": [
        {
          "output_type": "execute_result",
          "data": {
            "text/plain": [
              "LinearRegression()"
            ]
          },
          "metadata": {},
          "execution_count": 23
        }
      ]
    },
    {
      "cell_type": "markdown",
      "source": [
        "What is the value of the intercept(a)?\n"
      ],
      "metadata": {
        "id": "G5-C6_5KWRHC"
      }
    },
    {
      "cell_type": "code",
      "source": [
        "lm.intercept_"
      ],
      "metadata": {
        "trusted": true,
        "colab": {
          "base_uri": "https://localhost:8080/",
          "height": 0
        },
        "id": "p4Hu7eFpWRHC",
        "outputId": "900a3b96-951d-4db2-dce4-9e61a0281184"
      },
      "execution_count": 24,
      "outputs": [
        {
          "output_type": "execute_result",
          "data": {
            "text/plain": [
              "-15806.62462632922"
            ]
          },
          "metadata": {},
          "execution_count": 24
        }
      ]
    },
    {
      "cell_type": "markdown",
      "source": [
        "What are the values of the coefficients (b1, b2, b3, b4)?\n"
      ],
      "metadata": {
        "id": "y0Vm80gEWRHD"
      }
    },
    {
      "cell_type": "code",
      "source": [
        "coef =  dict(zip(Zinfo, lm.coef_))\n",
        "print (coef)\n",
        "print (\"Price = \", end='') #用 end='' 表示print 後不加 enter\n",
        "print (lm.intercept_.round(3), end='') \n",
        "for k, v in coef.items():\n",
        "    print(f\" + {v:.3f} x {k}\", end='') # 用 f 表示 format 且後面可加用 end='' 表示print 後不加 enter"
      ],
      "metadata": {
        "trusted": true,
        "colab": {
          "base_uri": "https://localhost:8080/",
          "height": 0
        },
        "id": "-x_8koPvWRHD",
        "outputId": "e24203fe-9636-4820-9852-d5e4303eaaf5"
      },
      "execution_count": 26,
      "outputs": [
        {
          "output_type": "stream",
          "name": "stdout",
          "text": [
            "{'horsepower': 53.49574422604914, 'curb-weight': 4.707700994613939, 'engine-size': 81.53026382122758, 'highway-mpg': 36.05748881648596}\n",
            "Price = -15806.625 + 53.496 x horsepower + 4.708 x curb-weight + 81.530 x engine-size + 36.057 x highway-mpg"
          ]
        }
      ]
    },
    {
      "cell_type": "markdown",
      "source": [
        "What is the final estimated linear model that we get?\n"
      ],
      "metadata": {
        "id": "kIT4Rn_0WRHD"
      }
    },
    {
      "cell_type": "markdown",
      "source": [
        "As we saw above, we should get a final linear function with the structure:\n",
        "\n",
        "$$\n",
        "Yhat = a + b\\_1 X\\_1 + b\\_2 X\\_2 + b\\_3 X\\_3 + b\\_4 X\\_4\n",
        "$$\n",
        "\n",
        "What is the linear function we get in this example?\n"
      ],
      "metadata": {
        "id": "SvrwwyAsWRHD"
      }
    },
    {
      "cell_type": "markdown",
      "source": [
        "<b>Price</b> = -15678.742628061467 + 52.65851272 x <b>horsepower</b> + 4.69878948 x <b>curb-weight</b> + 81.95906216 x <b>engine-size</b> + 33.58258185 x <b>highway-mpg</b>\n"
      ],
      "metadata": {
        "id": "wFsz4BFhWRHD"
      }
    },
    {
      "cell_type": "markdown",
      "source": [
        "<div class=\"alert alert-danger alertdanger\" style=\"margin-top: 20px\">\n",
        "<h1> Question  #2 a): </h1>\n",
        "Create and train a Multiple Linear Regression model \"lm2\" where the response variable is \"price\", and the predictor variable is \"normalized-losses\" and  \"highway-mpg\".\n",
        "</div>\n"
      ],
      "metadata": {
        "id": "6GuIUqdqWRHD"
      }
    },
    {
      "cell_type": "code",
      "source": [
        "Zinfo = ['normalized-losses', 'highway-mpg']\n",
        "Z = df[Zinfo]\n",
        "lm1.fit(Z, df['price'])\n"
      ],
      "metadata": {
        "trusted": true,
        "colab": {
          "base_uri": "https://localhost:8080/",
          "height": 0
        },
        "id": "e5dfv6huWRHE",
        "outputId": "c61cff42-ec60-4157-fc7f-8d3b247edc67"
      },
      "execution_count": 27,
      "outputs": [
        {
          "output_type": "execute_result",
          "data": {
            "text/plain": [
              "LinearRegression()"
            ]
          },
          "metadata": {},
          "execution_count": 27
        }
      ]
    },
    {
      "cell_type": "markdown",
      "source": [
        "<details><summary>Click here for the solution</summary>\n",
        "\n",
        "```python\n",
        "lm2 = LinearRegression()\n",
        "lm2.fit(df[['normalized-losses' , 'highway-mpg']],df['price'])\n",
        "\n",
        "\n",
        "```\n",
        "\n",
        "</details>\n"
      ],
      "metadata": {
        "id": "ZJUvnjJWWRHE"
      }
    },
    {
      "cell_type": "markdown",
      "source": [
        "<div class=\"alert alert-danger alertdanger\" style=\"margin-top: 20px\">\n",
        "<h1>Question  #2 b): </h1>\n",
        "<b>Find the coefficient of the model.</b>\n",
        "</div>\n"
      ],
      "metadata": {
        "id": "55vMql5fWRHE"
      }
    },
    {
      "cell_type": "code",
      "source": [
        "coef =  dict(zip(Zinfo, lm.coef_))\n",
        "print (coef)"
      ],
      "metadata": {
        "trusted": true,
        "colab": {
          "base_uri": "https://localhost:8080/",
          "height": 0
        },
        "id": "DrsbK-ERWRHE",
        "outputId": "4c91b45e-4c75-48ea-d831-9e0c05a314fb"
      },
      "execution_count": 28,
      "outputs": [
        {
          "output_type": "stream",
          "name": "stdout",
          "text": [
            "{'normalized-losses': 53.49574422604914, 'highway-mpg': 4.707700994613939}\n"
          ]
        }
      ]
    },
    {
      "cell_type": "markdown",
      "source": [
        "<details><summary>Click here for the solution</summary>\n",
        "\n",
        "```python\n",
        "lm2.coef_\n",
        "\n",
        "```\n",
        "\n",
        "</details>\n"
      ],
      "metadata": {
        "id": "dKqTSoeSWRHE"
      }
    },
    {
      "cell_type": "markdown",
      "source": [
        "<h2>2. Model Evaluation Using Visualization</h2>\n"
      ],
      "metadata": {
        "id": "vzx5FEV3WRHE"
      }
    },
    {
      "cell_type": "markdown",
      "source": [
        "Now that we've developed some models, how do we evaluate our models and choose the best one? One way to do this is by using a visualization.\n"
      ],
      "metadata": {
        "id": "g2o_5hvZWRHE"
      }
    },
    {
      "cell_type": "markdown",
      "source": [
        "Import the visualization package, seaborn:\n"
      ],
      "metadata": {
        "id": "4efNgPUWWRHF"
      }
    },
    {
      "cell_type": "code",
      "source": [
        "# import the visualization package: seaborn\n",
        "import seaborn as sns\n",
        "%matplotlib inline "
      ],
      "metadata": {
        "trusted": true,
        "id": "d5bEj1TYWRHF"
      },
      "execution_count": 29,
      "outputs": []
    },
    {
      "cell_type": "markdown",
      "source": [
        "<h3>Regression Plot</h3>\n"
      ],
      "metadata": {
        "id": "UxQ3BREyWRHF"
      }
    },
    {
      "cell_type": "markdown",
      "source": [
        "<p>When it comes to simple linear regression, an excellent way to visualize the fit of our model is by using <b>regression plots</b>.</p>\n",
        "\n",
        "<p>This plot will show a combination of a scattered data points (a <b>scatterplot</b>), as well as the fitted <b>linear regression</b> line going through the data. This will give us a reasonable estimate of the relationship between the two variables, the strength of the correlation, as well as the direction (positive or negative correlation).</p>\n"
      ],
      "metadata": {
        "id": "0pixlVusWRHF"
      }
    },
    {
      "cell_type": "markdown",
      "source": [
        "Let's visualize **highway-mpg** as potential predictor variable of price:\n"
      ],
      "metadata": {
        "id": "y9GPxXL8WRHF"
      }
    },
    {
      "cell_type": "code",
      "source": [
        "width = 12\n",
        "height = 10\n",
        "plt.figure(figsize=(width, height))\n",
        "sns.regplot(x=\"highway-mpg\", y=\"price\", data=df)\n",
        "plt.ylim(0,)"
      ],
      "metadata": {
        "trusted": true,
        "colab": {
          "base_uri": "https://localhost:8080/",
          "height": 623
        },
        "id": "P-2C9w1_WRHF",
        "outputId": "3d941fa8-3cb9-49a1-8167-ac3cbc8708e8"
      },
      "execution_count": 30,
      "outputs": [
        {
          "output_type": "execute_result",
          "data": {
            "text/plain": [
              "(0.0, 48162.82045612127)"
            ]
          },
          "metadata": {},
          "execution_count": 30
        },
        {
          "output_type": "display_data",
          "data": {
            "text/plain": [
              "<Figure size 864x720 with 1 Axes>"
            ],
            "image/png": "[encoded data removed]"
          },
          "metadata": {
            "needs_background": "light"
          }
        }
      ]
    },
    {
      "cell_type": "markdown",
      "source": [
        "<p>We can see from this plot that price is negatively correlated to highway-mpg since the regression slope is negative.\n",
        "\n",
        "One thing to keep in mind when looking at a regression plot is to pay attention to how scattered the data points are around the regression line. This will give you a good indication of the variance of the data and whether a linear model would be the best fit or not. If the data is too far off from the line, this linear model might not be the best model for this data.\n",
        "\n",
        "Let's compare this plot to the regression plot of \"peak-rpm\".</p>\n"
      ],
      "metadata": {
        "id": "G_CHzjd_WRHG"
      }
    },
    {
      "cell_type": "code",
      "source": [
        "plt.figure(figsize=(width, height))\n",
        "sns.regplot(x=\"peak-rpm\", y=\"price\", data=df)\n",
        "plt.ylim(0,)"
      ],
      "metadata": {
        "trusted": true,
        "colab": {
          "base_uri": "https://localhost:8080/",
          "height": 623
        },
        "id": "jUOThRO3WRHG",
        "outputId": "9fc5e943-a427-42e8-876f-b92c99b9442f"
      },
      "execution_count": 31,
      "outputs": [
        {
          "output_type": "execute_result",
          "data": {
            "text/plain": [
              "(0.0, 47414.1)"
            ]
          },
          "metadata": {},
          "execution_count": 31
        },
        {
          "output_type": "display_data",
          "data": {
            "text/plain": [
              "<Figure size 864x720 with 1 Axes>"
            ],
            "image/png": "[encoded data removed]"
          },
          "metadata": {
            "needs_background": "light"
          }
        }
      ]
    },
    {
      "cell_type": "markdown",
      "source": [
        "<p>Comparing the regression plot of \"peak-rpm\" and \"highway-mpg\", we see that the points for \"highway-mpg\" are much closer to the generated line and, on average, decrease. The points for \"peak-rpm\" have more spread around the predicted line and it is much harder to determine if the points are decreasing or increasing as the \"peak-rpm\" increases.</p>\n"
      ],
      "metadata": {
        "id": "8yF0SguWWRHG"
      }
    },
    {
      "cell_type": "markdown",
      "source": [
        "<div class=\"alert alert-danger alertdanger\" style=\"margin-top: 20px\">\n",
        "<h1>Question #3:</h1>\n",
        "<b>Given the regression plots above, is \"peak-rpm\" or \"highway-mpg\" more strongly correlated with \"price\"? Use the method  \".corr()\" to verify your answer.</b>\n",
        "</div>\n"
      ],
      "metadata": {
        "id": "CdhcY_v7WRHG"
      }
    },
    {
      "cell_type": "code",
      "source": [
        "Plot = df[[\"peak-rpm\",\"highway-mpg\",\"price\"]].corr()\n",
        "print (f\"peak-rpm:{Plot['peak-rpm']['price']:.3f}\")\n",
        "print (f\"highway-mpg:{Plot['highway-mpg']['price']:.3f}\")"
      ],
      "metadata": {
        "trusted": true,
        "colab": {
          "base_uri": "https://localhost:8080/",
          "height": 0
        },
        "id": "1f__VBZJWRHG",
        "outputId": "0d2e9255-bd7a-4578-a917-1f1469c0df26"
      },
      "execution_count": 32,
      "outputs": [
        {
          "output_type": "stream",
          "name": "stdout",
          "text": [
            "peak-rpm:-0.102\n",
            "highway-mpg:-0.705\n"
          ]
        }
      ]
    },
    {
      "cell_type": "markdown",
      "source": [
        "<details><summary>Click here for the solution</summary>\n",
        "\n",
        "```python\n",
        "# The variable \"highway-mpg\" has a stronger correlation with \"price\", it is approximate -0.704692  compared to \"peak-rpm\" which is approximate -0.101616. You can verify it using the following command:\n",
        "\n",
        "df[[\"peak-rpm\",\"highway-mpg\",\"price\"]].corr()\n",
        "\n",
        "```\n",
        "\n",
        "</details>\n"
      ],
      "metadata": {
        "id": "SRHfHot9WRHH"
      }
    },
    {
      "cell_type": "markdown",
      "source": [
        "<h3>Residual Plot</h3>\n",
        "\n",
        "<p>A good way to visualize the variance of the data is to use a residual plot.</p>\n",
        "\n",
        "<p>What is a <b>residual</b>?</p>\n",
        "\n",
        "<p>The difference between the observed value (y) and the predicted value (Yhat) is called the residual (e). When we look at a regression plot, the residual is the distance from the data point to the fitted regression line.</p>\n",
        "\n",
        "<p>So what is a <b>residual plot</b>?</p>\n",
        "\n",
        "<p>A residual plot is a graph that shows the residuals on the vertical y-axis and the independent variable on the horizontal x-axis.</p>\n",
        "\n",
        "<p>What do we pay attention to when looking at a residual plot?</p>\n",
        "\n",
        "<p>We look at the spread of the residuals:</p>\n",
        "\n",
        "<p>- If the points in a residual plot are <b>randomly spread out around the x-axis</b>, then a <b>linear model is appropriate</b> for the data.\n",
        "\n",
        "Why is that? Randomly spread out residuals means that the variance is constant, and thus the linear model is a good fit for this data.</p>\n"
      ],
      "metadata": {
        "id": "6zR4Ect9WRHH"
      }
    },
    {
      "cell_type": "code",
      "source": [
        "width = 12\n",
        "height = 10\n",
        "plt.figure(figsize=(width, height))\n",
        "sns.residplot(df['highway-mpg'], df['price'])\n",
        "plt.show()"
      ],
      "metadata": {
        "trusted": true,
        "colab": {
          "base_uri": "https://localhost:8080/",
          "height": 606
        },
        "id": "h-Wzfo-LWRHH",
        "outputId": "c71e4cba-ec7d-4478-ba06-4047a12893cc"
      },
      "execution_count": 33,
      "outputs": [
        {
          "output_type": "display_data",
          "data": {
            "text/plain": [
              "<Figure size 864x720 with 1 Axes>"
            ],
            "image/png": "[encoded data removed]"
          },
          "metadata": {
            "needs_background": "light"
          }
        }
      ]
    },
    {
      "cell_type": "markdown",
      "source": [
        "<i>What is this plot telling us?</i>\n",
        "\n",
        "<p>We can see from this residual plot that the residuals are not randomly spread around the x-axis, leading us to believe that maybe a non-linear model is more appropriate for this data.</p>\n"
      ],
      "metadata": {
        "id": "6Z9VByFsWRHH"
      }
    },
    {
      "cell_type": "markdown",
      "source": [
        "<h3>Multiple Linear Regression</h3>\n"
      ],
      "metadata": {
        "id": "3VLseksMWRHH"
      }
    },
    {
      "cell_type": "markdown",
      "source": [
        "<p>How do we visualize a model for Multiple Linear Regression? This gets a bit more complicated because you can't visualize it with regression or residual plot.</p>\n",
        "\n",
        "<p>One way to look at the fit of the model is by looking at the <b>distribution plot</b>. We can look at the distribution of the fitted values that result from the model and compare it to the distribution of the actual values.</p>\n"
      ],
      "metadata": {
        "id": "OP-jiDewWRHI"
      }
    },
    {
      "cell_type": "markdown",
      "source": [
        "First, let's make a prediction:\n"
      ],
      "metadata": {
        "id": "ZT3UmMQcWRHI"
      }
    },
    {
      "cell_type": "code",
      "source": [
        "Y_hat = lm1.predict(Z)\n"
      ],
      "metadata": {
        "trusted": true,
        "id": "3mZQgkObWRHI"
      },
      "execution_count": 34,
      "outputs": []
    },
    {
      "cell_type": "code",
      "source": [
        "plt.figure(figsize=(width, height))\n",
        "\n",
        "\n",
        "ax1 = sns.distplot(df['price'], hist=False, color=\"r\", label=\"Actual Value\")\n",
        "sns.distplot(Y_hat, hist=False, color=\"b\", label=\"Fitted Values\" , ax=ax1)\n",
        "\n",
        "\n",
        "plt.title('Actual vs Fitted Values for Price')\n",
        "plt.xlabel('Price (in dollars)')\n",
        "plt.ylabel('Proportion of Cars')\n",
        "\n",
        "plt.show()\n",
        "plt.close()"
      ],
      "metadata": {
        "trusted": true,
        "colab": {
          "base_uri": "https://localhost:8080/",
          "height": 621
        },
        "id": "WluaCjOjWRHI",
        "outputId": "00cf3680-504b-48e7-e9e4-a252de8796be"
      },
      "execution_count": 35,
      "outputs": [
        {
          "output_type": "display_data",
          "data": {
            "text/plain": [
              "<Figure size 864x720 with 1 Axes>"
            ],
            "image/png": "[encoded data removed]"
          },
          "metadata": {
            "needs_background": "light"
          }
        }
      ]
    },
    {
      "cell_type": "markdown",
      "source": [
        "<p>We can see that the fitted values are reasonably close to the actual values since the two distributions overlap a bit. However, there is definitely some room for improvement.</p>\n"
      ],
      "metadata": {
        "id": "_MufODhaWRHI"
      }
    },
    {
      "cell_type": "markdown",
      "source": [
        "<h2>3. Polynomial Regression and Pipelines</h2>\n"
      ],
      "metadata": {
        "id": "ykubsSYwWRHI"
      }
    },
    {
      "cell_type": "markdown",
      "source": [
        "<p><b>Polynomial regression</b> is a particular case of the general linear regression model or multiple linear regression models.</p> \n",
        "<p>We get non-linear relationships by squaring or setting higher-order terms of the predictor variables.</p>\n",
        "\n",
        "<p>There are different orders of polynomial regression:</p>\n"
      ],
      "metadata": {
        "id": "7iClgO0iWRHJ"
      }
    },
    {
      "cell_type": "markdown",
      "source": [
        "<center><b>Quadratic - 2nd Order</b></center>\n",
        "$$\n",
        "Yhat = a + b_1 X +b_2 X^2 \n",
        "$$\n",
        "\n",
        "<center><b>Cubic - 3rd Order</b></center>\n",
        "$$\n",
        "Yhat = a + b_1 X +b_2 X^2 +b_3 X^3\\\\\\\\\\\\\\\\\\\\\n",
        "$$\n",
        "\n",
        "<center><b>Higher-Order</b>:</center>\n",
        "$$\n",
        "Y = a + b_1 X +b_2 X^2 +b_3 X^3 ....\\\\\\\\\n",
        "$$\n"
      ],
      "metadata": {
        "id": "rhHArG-CWRHJ"
      }
    },
    {
      "cell_type": "markdown",
      "source": [
        "<p>We saw earlier that a linear model did not provide the best fit while using \"highway-mpg\" as the predictor variable. Let's see if we can try fitting a polynomial model to the data instead.</p>\n"
      ],
      "metadata": {
        "id": "x8B7eTOfWRHJ"
      }
    },
    {
      "cell_type": "markdown",
      "source": [
        "<p>We will use the following function to plot the data:</p>\n"
      ],
      "metadata": {
        "id": "ZgzS8qeMWRHJ"
      }
    },
    {
      "cell_type": "code",
      "source": [
        "def PlotPolly(model, independent_variable, dependent_variabble, Name):\n",
        "    x_new = np.linspace(15, 55, 100)\n",
        "    y_new = model(x_new)\n",
        "\n",
        "    plt.plot(independent_variable, dependent_variabble, '.', x_new, y_new, '-')\n",
        "    plt.title('Polynomial Fit with Matplotlib for Price ~ Length')\n",
        "    ax = plt.gca()\n",
        "    ax.set_facecolor((0.898, 0.898, 0.898))\n",
        "    fig = plt.gcf()\n",
        "    plt.xlabel(Name)\n",
        "    plt.ylabel('Price of Cars')\n",
        "\n",
        "    plt.show()\n",
        "    plt.close()"
      ],
      "metadata": {
        "trusted": true,
        "id": "8fu2bhkLWRHJ"
      },
      "execution_count": 36,
      "outputs": []
    },
    {
      "cell_type": "markdown",
      "source": [
        "Let's get the variables:\n"
      ],
      "metadata": {
        "id": "NYzhSvWEWRHJ"
      }
    },
    {
      "cell_type": "code",
      "source": [
        "x = df['highway-mpg']\n",
        "y = df['price']"
      ],
      "metadata": {
        "trusted": true,
        "id": "I0iEoW8vWRHJ"
      },
      "execution_count": 37,
      "outputs": []
    },
    {
      "cell_type": "markdown",
      "source": [
        "Let's fit the polynomial using the function <b>polyfit</b>, then use the function <b>poly1d</b> to display the polynomial function.\n"
      ],
      "metadata": {
        "id": "S_TcnAnSWRHK"
      }
    },
    {
      "cell_type": "code",
      "source": [
        "# Here we use a polynomial of the 3rd order (cubic) \n",
        "f = np.polyfit(x, y, 3)\n",
        "p = np.poly1d(f)\n",
        "print(p)"
      ],
      "metadata": {
        "trusted": true,
        "colab": {
          "base_uri": "https://localhost:8080/",
          "height": 0
        },
        "id": "WJZlWFBuWRHK",
        "outputId": "9c98f126-e21a-477d-df63-5523469302dd"
      },
      "execution_count": 38,
      "outputs": [
        {
          "output_type": "stream",
          "name": "stdout",
          "text": [
            "        3         2\n",
            "-1.557 x + 204.8 x - 8965 x + 1.379e+05\n"
          ]
        }
      ]
    },
    {
      "cell_type": "markdown",
      "source": [
        "Let's plot the function:\n"
      ],
      "metadata": {
        "id": "LRjBOGKiWRHK"
      }
    },
    {
      "cell_type": "code",
      "source": [
        "PlotPolly(p, x, y, 'highway-mpg')"
      ],
      "metadata": {
        "trusted": true,
        "colab": {
          "base_uri": "https://localhost:8080/",
          "height": 295
        },
        "id": "vbYTN7QgWRHK",
        "outputId": "501326e8-7416-41ed-e797-8d312857219f"
      },
      "execution_count": 39,
      "outputs": [
        {
          "output_type": "display_data",
          "data": {
            "text/plain": [
              "<Figure size 432x288 with 1 Axes>"
            ],
            "image/png": "[encoded data removed]"
          },
          "metadata": {
            "needs_background": "light"
          }
        }
      ]
    },
    {
      "cell_type": "code",
      "source": [
        "np.polyfit(x, y, 3)"
      ],
      "metadata": {
        "trusted": true,
        "colab": {
          "base_uri": "https://localhost:8080/",
          "height": 0
        },
        "id": "K-U-H5Z0WRHK",
        "outputId": "30fe0ef6-e34b-4294-dcc8-5c5cbf156d96"
      },
      "execution_count": 40,
      "outputs": [
        {
          "output_type": "execute_result",
          "data": {
            "text/plain": [
              "array([-1.55663829e+00,  2.04754306e+02, -8.96543312e+03,  1.37923594e+05])"
            ]
          },
          "metadata": {},
          "execution_count": 40
        }
      ]
    },
    {
      "cell_type": "markdown",
      "source": [
        "<p>We can already see from plotting that this polynomial model performs better than the linear model. This is because the generated polynomial function  \"hits\" more of the data points.</p>\n"
      ],
      "metadata": {
        "id": "6wyUjUpPWRHK"
      }
    },
    {
      "cell_type": "markdown",
      "source": [
        "<div class=\"alert alert-danger alertdanger\" style=\"margin-top: 20px\">\n",
        "<h1>Question  #4:</h1>\n",
        "<b>Create 11 order polynomial model with the variables x and y from above.</b>\n",
        "</div>\n"
      ],
      "metadata": {
        "id": "q7SYVjQ1WRHL"
      }
    },
    {
      "cell_type": "code",
      "source": [
        "f1 = np.polyfit(x, y, 11) # 11 order polynomial model (11階多項式模型)\n",
        "p1 = np.poly1d(f1)\n",
        "print(p1)\n",
        "PlotPolly(p1,x,y, 'Highway MPG')"
      ],
      "metadata": {
        "trusted": true,
        "colab": {
          "base_uri": "https://localhost:8080/",
          "height": 364
        },
        "id": "zbyIbvWvWRHL",
        "outputId": "9da0f2ce-19a5-40aa-aea0-740c606cd5ec"
      },
      "execution_count": 41,
      "outputs": [
        {
          "output_type": "stream",
          "name": "stdout",
          "text": [
            "            11             10             9           8         7\n",
            "-1.243e-08 x  + 4.722e-06 x  - 0.0008028 x + 0.08056 x - 5.297 x\n",
            "          6        5             4             3             2\n",
            " + 239.5 x - 7588 x + 1.684e+05 x - 2.565e+06 x + 2.551e+07 x - 1.491e+08 x + 3.879e+08\n"
          ]
        },
        {
          "output_type": "display_data",
          "data": {
            "text/plain": [
              "<Figure size 432x288 with 1 Axes>"
            ],
            "image/png": "[encoded data removed]"
          },
          "metadata": {
            "needs_background": "light"
          }
        }
      ]
    },
    {
      "cell_type": "markdown",
      "source": [
        "<details><summary>Click here for the solution</summary>\n",
        "\n",
        "```python\n",
        "# Here we use a polynomial of the 11rd order (cubic) \n",
        "f1 = np.polyfit(x, y, 11)\n",
        "p1 = np.poly1d(f1)\n",
        "print(p1)\n",
        "PlotPolly(p1,x,y, 'Highway MPG')\n",
        "\n",
        "```\n",
        "\n",
        "</details>\n"
      ],
      "metadata": {
        "id": "71zU6yu6WRHL"
      }
    },
    {
      "cell_type": "markdown",
      "source": [
        "<p>The analytical expression for Multivariate Polynomial function gets complicated. For example, the expression for a second-order (degree=2) polynomial with two variables is given by:</p>\n"
      ],
      "metadata": {
        "id": "-7VS1q16WRHL"
      }
    },
    {
      "cell_type": "markdown",
      "source": [
        "$$\n",
        "Yhat = a + b\\_1 X\\_1 +b\\_2 X\\_2 +b\\_3 X\\_1 X\\_2+b\\_4 X\\_1^2+b\\_5 X\\_2^2\n",
        "$$\n"
      ],
      "metadata": {
        "id": "jpwUwz4aWRHL"
      }
    },
    {
      "cell_type": "markdown",
      "source": [
        "We can perform a polynomial transform on multiple features. First, we import the module:\n"
      ],
      "metadata": {
        "id": "ykDg1tunWRHM"
      }
    },
    {
      "cell_type": "code",
      "source": [
        "from sklearn.preprocessing import PolynomialFeatures"
      ],
      "metadata": {
        "trusted": true,
        "id": "nNHRpJMIWRHM"
      },
      "execution_count": 42,
      "outputs": []
    },
    {
      "cell_type": "markdown",
      "source": [
        "We create a <b>PolynomialFeatures</b> object of degree 2:\n"
      ],
      "metadata": {
        "id": "ZKZ2KGnKWRHM"
      }
    },
    {
      "cell_type": "code",
      "source": [
        "pr=PolynomialFeatures(degree=2)\n",
        "pr"
      ],
      "metadata": {
        "trusted": true,
        "colab": {
          "base_uri": "https://localhost:8080/",
          "height": 0
        },
        "id": "ZIL6M0smWRHM",
        "outputId": "905f29bc-ff7f-4f09-b846-8d8164e82422"
      },
      "execution_count": 43,
      "outputs": [
        {
          "output_type": "execute_result",
          "data": {
            "text/plain": [
              "PolynomialFeatures()"
            ]
          },
          "metadata": {},
          "execution_count": 43
        }
      ]
    },
    {
      "cell_type": "code",
      "source": [
        "Z_pr=pr.fit_transform(Z)"
      ],
      "metadata": {
        "trusted": true,
        "id": "zYDvNt6gWRHM"
      },
      "execution_count": 44,
      "outputs": []
    },
    {
      "cell_type": "markdown",
      "source": [
        "In the original data, there are 201 samples and 4 features.\n"
      ],
      "metadata": {
        "id": "eEa4SUxiWRHM"
      }
    },
    {
      "cell_type": "code",
      "source": [
        "Z.shape"
      ],
      "metadata": {
        "trusted": true,
        "colab": {
          "base_uri": "https://localhost:8080/",
          "height": 0
        },
        "id": "cKHS1mRPWRHN",
        "outputId": "edf747d8-c8c1-47d2-ccfe-d574597f8726"
      },
      "execution_count": 45,
      "outputs": [
        {
          "output_type": "execute_result",
          "data": {
            "text/plain": [
              "(201, 2)"
            ]
          },
          "metadata": {},
          "execution_count": 45
        }
      ]
    },
    {
      "cell_type": "markdown",
      "source": [
        "After the transformation, there are 201 samples and 15 features.\n"
      ],
      "metadata": {
        "id": "UiG-hFdLWRHN"
      }
    },
    {
      "cell_type": "code",
      "source": [
        "Z_pr.shape"
      ],
      "metadata": {
        "trusted": true,
        "colab": {
          "base_uri": "https://localhost:8080/",
          "height": 0
        },
        "id": "Tyrg5ryCWRHN",
        "outputId": "076006e5-5095-44e7-eb63-7b8192303762"
      },
      "execution_count": 46,
      "outputs": [
        {
          "output_type": "execute_result",
          "data": {
            "text/plain": [
              "(201, 6)"
            ]
          },
          "metadata": {},
          "execution_count": 46
        }
      ]
    },
    {
      "cell_type": "markdown",
      "source": [
        "<h2>Pipeline</h2>\n"
      ],
      "metadata": {
        "id": "gwZ2T7icWRHN"
      }
    },
    {
      "cell_type": "markdown",
      "source": [
        "<p>Data Pipelines simplify the steps of processing the data. We use the module <b>Pipeline</b> to create a pipeline. We also use <b>StandardScaler</b> as a step in our pipeline.</p>\n"
      ],
      "metadata": {
        "id": "2yfctVnRWRHN"
      }
    },
    {
      "cell_type": "code",
      "source": [
        "from sklearn.pipeline import Pipeline\n",
        "from sklearn.preprocessing import StandardScaler"
      ],
      "metadata": {
        "trusted": true,
        "id": "ZC1q-Ue5WRHN"
      },
      "execution_count": 47,
      "outputs": []
    },
    {
      "cell_type": "markdown",
      "source": [
        "We create the pipeline by creating a list of tuples including the name of the model or estimator and its corresponding constructor.\n"
      ],
      "metadata": {
        "id": "DROOPg_DWRHO"
      }
    },
    {
      "cell_type": "code",
      "source": [
        "Input=[('scale',StandardScaler()), ('polynomial', PolynomialFeatures(include_bias=False)), ('model',LinearRegression())]"
      ],
      "metadata": {
        "trusted": true,
        "id": "isKTh3ZeWRHO"
      },
      "execution_count": 48,
      "outputs": []
    },
    {
      "cell_type": "markdown",
      "source": [
        "We input the list as an argument to the pipeline constructor:\n"
      ],
      "metadata": {
        "id": "m4FcM_j9WRHO"
      }
    },
    {
      "cell_type": "code",
      "source": [
        "pipe=Pipeline(Input)\n",
        "pipe"
      ],
      "metadata": {
        "trusted": true,
        "colab": {
          "base_uri": "https://localhost:8080/",
          "height": 0
        },
        "id": "j2z276N0WRHO",
        "outputId": "eb942cdd-ce99-4874-d03f-9842a4aa7e2f"
      },
      "execution_count": 49,
      "outputs": [
        {
          "output_type": "execute_result",
          "data": {
            "text/plain": [
              "Pipeline(steps=[('scale', StandardScaler()),\n",
              "                ('polynomial', PolynomialFeatures(include_bias=False)),\n",
              "                ('model', LinearRegression())])"
            ]
          },
          "metadata": {},
          "execution_count": 49
        }
      ]
    },
    {
      "cell_type": "markdown",
      "source": [
        "First, we convert the data type Z to type float to avoid conversion warnings that may appear as a result of StandardScaler taking float inputs.\n",
        "\n",
        "Then, we can normalize the data,  perform a transform and fit the model simultaneously.\n"
      ],
      "metadata": {
        "id": "C8gA-O82WRHO"
      }
    },
    {
      "cell_type": "code",
      "source": [
        "Z = Z.astype(float)\n",
        "pipe.fit(Z,y)"
      ],
      "metadata": {
        "trusted": true,
        "colab": {
          "base_uri": "https://localhost:8080/",
          "height": 0
        },
        "id": "vP1_5wN2WRHO",
        "outputId": "080e6921-be8d-4598-b62d-5282e481b6ee"
      },
      "execution_count": 50,
      "outputs": [
        {
          "output_type": "execute_result",
          "data": {
            "text/plain": [
              "Pipeline(steps=[('scale', StandardScaler()),\n",
              "                ('polynomial', PolynomialFeatures(include_bias=False)),\n",
              "                ('model', LinearRegression())])"
            ]
          },
          "metadata": {},
          "execution_count": 50
        }
      ]
    },
    {
      "cell_type": "markdown",
      "source": [
        "Similarly,  we can normalize the data, perform a transform and produce a prediction  simultaneously.\n"
      ],
      "metadata": {
        "id": "qVPuDiwmWRHP"
      }
    },
    {
      "cell_type": "code",
      "source": [
        "ypipe=pipe.predict(Z)\n",
        "ypipe[0:4]"
      ],
      "metadata": {
        "trusted": true,
        "colab": {
          "base_uri": "https://localhost:8080/",
          "height": 0
        },
        "id": "-rBmIBwDWRHP",
        "outputId": "cee2cca4-0b72-4bdb-b82f-0f5e0cb7624c"
      },
      "execution_count": 51,
      "outputs": [
        {
          "output_type": "execute_result",
          "data": {
            "text/plain": [
              "array([15388.77780567, 15388.77780567, 16771.84474515, 11641.85647791])"
            ]
          },
          "metadata": {},
          "execution_count": 51
        }
      ]
    },
    {
      "cell_type": "markdown",
      "source": [
        "<div class=\"alert alert-danger alertdanger\" style=\"margin-top: 20px\">\n",
        "<h1>Question #5:</h1>\n",
        "<b>Create a pipeline that standardizes the data, then produce a prediction using a linear regression model using the features Z and target y.</b>\n",
        "</div>\n"
      ],
      "metadata": {
        "id": "u1ODwskvWRHP"
      }
    },
    {
      "cell_type": "code",
      "source": [
        "# Write your code below and press Shift+Enter to execute \n",
        "Input=[('scale',StandardScaler()),('model',LinearRegression())]\n",
        "pipe=Pipeline(Input)\n",
        "pipe.fit(Z,y)\n",
        "ypipe=pipe.predict(Z)\n",
        "ypipe[0:10]"
      ],
      "metadata": {
        "trusted": true,
        "colab": {
          "base_uri": "https://localhost:8080/",
          "height": 0
        },
        "id": "H-eavLxsWRHP",
        "outputId": "9cd4d84a-21e3-4fb1-df91-b7e9706fde8b"
      },
      "execution_count": 52,
      "outputs": [
        {
          "output_type": "execute_result",
          "data": {
            "text/plain": [
              "array([16231.78938339, 16231.78938339, 17052.24372355, 13833.33798916,\n",
              "       20396.97271047, 17872.69806371, 17926.6223148 , 17872.69806371,\n",
              "       22028.89401561, 14695.7334135 ])"
            ]
          },
          "metadata": {},
          "execution_count": 52
        }
      ]
    },
    {
      "cell_type": "markdown",
      "source": [
        "<details><summary>Click here for the solution</summary>\n",
        "\n",
        "```python\n",
        "Input=[('scale',StandardScaler()),('model',LinearRegression())]\n",
        "\n",
        "pipe=Pipeline(Input)\n",
        "\n",
        "pipe.fit(Z,y)\n",
        "\n",
        "ypipe=pipe.predict(Z)\n",
        "ypipe[0:10]\n",
        "\n",
        "```\n",
        "\n",
        "</details>\n"
      ],
      "metadata": {
        "id": "g28fY6EDWRHP"
      }
    },
    {
      "cell_type": "markdown",
      "source": [
        "<h2>4. Measures for In-Sample Evaluation</h2>\n"
      ],
      "metadata": {
        "id": "W1FBG19ZWRHQ"
      }
    },
    {
      "cell_type": "markdown",
      "source": [
        "<p>When evaluating our models, not only do we want to visualize the results, but we also want a quantitative measure to determine how accurate the model is.</p>\n",
        "\n",
        "<p>Two very important measures that are often used in Statistics to determine the accuracy of a model are:</p>\n",
        "<ul>\n",
        "    <li><b>R^2 / R-squared</b></li>\n",
        "    <li><b>Mean Squared Error (MSE)</b></li>\n",
        "</ul>\n",
        "\n",
        "<b>R-squared</b>\n",
        "\n",
        "<p>R squared, also known as the coefficient of determination, is a measure to indicate how close the data is to the fitted regression line.</p>\n",
        "\n",
        "<p>The value of the R-squared is the percentage of variation of the response variable (y) that is explained by a linear model.</p>\n",
        "\n",
        "<b>Mean Squared Error (MSE)</b>\n",
        "\n",
        "<p>The Mean Squared Error measures the average of the squares of errors. That is, the difference between actual value (y) and the estimated value (ŷ).</p>\n"
      ],
      "metadata": {
        "id": "CRu92GVZWRHQ"
      }
    },
    {
      "cell_type": "markdown",
      "source": [
        "<h3>Model 1: Simple Linear Regression</h3>\n"
      ],
      "metadata": {
        "id": "dLm2sapQWRHQ"
      }
    },
    {
      "cell_type": "markdown",
      "source": [
        "Let's calculate the R^2:\n"
      ],
      "metadata": {
        "id": "xrEiYmcMWRHQ"
      }
    },
    {
      "cell_type": "code",
      "source": [
        "#highway_mpg_fit\n",
        "lm.fit(X, Y)\n",
        "# Find the R^2\n",
        "print('The R-square is: ', lm.score(X, Y))"
      ],
      "metadata": {
        "scrolled": true,
        "trusted": true,
        "colab": {
          "base_uri": "https://localhost:8080/",
          "height": 0
        },
        "id": "lKdOcvllWRHQ",
        "outputId": "7090155f-9f16-4ed6-ed50-fb63b23f6f9c"
      },
      "execution_count": 53,
      "outputs": [
        {
          "output_type": "stream",
          "name": "stdout",
          "text": [
            "The R-square is:  0.4965911884339176\n"
          ]
        }
      ]
    },
    {
      "cell_type": "markdown",
      "source": [
        "We can say that \\~49.659% of the variation of the price is explained by this simple linear model \"horsepower_fit\".\n"
      ],
      "metadata": {
        "id": "HDsZiBqpWRHQ"
      }
    },
    {
      "cell_type": "markdown",
      "source": [
        "Let's calculate the MSE:\n"
      ],
      "metadata": {
        "id": "QKQ-DqhDWRHU"
      }
    },
    {
      "cell_type": "markdown",
      "source": [
        "We can predict the output i.e., \"yhat\" using the predict method, where X is the input variable:\n"
      ],
      "metadata": {
        "id": "WYJap8GHWRHU"
      }
    },
    {
      "cell_type": "code",
      "source": [
        "Yhat=lm.predict(X)\n",
        "print('The output of the first four predicted value is: ', Yhat[0:4])"
      ],
      "metadata": {
        "trusted": true,
        "colab": {
          "base_uri": "https://localhost:8080/",
          "height": 0
        },
        "id": "ZnYvAdzKWRHU",
        "outputId": "fd0b0bbb-4f58-4c1a-b441-7972d97e0a4e"
      },
      "execution_count": 54,
      "outputs": [
        {
          "output_type": "stream",
          "name": "stdout",
          "text": [
            "The output of the first four predicted value is:  [16236.50464347 16236.50464347 17058.23802179 13771.3045085 ]\n"
          ]
        }
      ]
    },
    {
      "cell_type": "markdown",
      "source": [
        "Let's import the function <b>mean_squared_error</b> from the module <b>metrics</b>:\n"
      ],
      "metadata": {
        "id": "-pfZqv4vWRHU"
      }
    },
    {
      "cell_type": "code",
      "source": [
        "from sklearn.metrics import mean_squared_error"
      ],
      "metadata": {
        "trusted": true,
        "id": "MJEHQHPJWRHV"
      },
      "execution_count": 55,
      "outputs": []
    },
    {
      "cell_type": "markdown",
      "source": [
        "We can compare the predicted results with the actual results:\n"
      ],
      "metadata": {
        "id": "mys2XRShWRHV"
      }
    },
    {
      "cell_type": "code",
      "source": [
        "mse = mean_squared_error(df['price'], Yhat)\n",
        "print('The mean square error of price and predicted value is: ', mse)"
      ],
      "metadata": {
        "trusted": true,
        "colab": {
          "base_uri": "https://localhost:8080/",
          "height": 0
        },
        "id": "5KSdF5f-WRHV",
        "outputId": "3454ec3d-bf68-445d-9da8-72a86705f51f"
      },
      "execution_count": 56,
      "outputs": [
        {
          "output_type": "stream",
          "name": "stdout",
          "text": [
            "The mean square error of price and predicted value is:  31635042.944639888\n"
          ]
        }
      ]
    },
    {
      "cell_type": "markdown",
      "source": [
        "<h3>Model 2: Multiple Linear Regression</h3>\n"
      ],
      "metadata": {
        "id": "3pkklB6xWRHV"
      }
    },
    {
      "cell_type": "markdown",
      "source": [
        "Let's calculate the R^2:\n"
      ],
      "metadata": {
        "id": "3QWB32xYWRHV"
      }
    },
    {
      "cell_type": "code",
      "source": [
        "# fit the model \n",
        "lm.fit(Z, df['price'])\n",
        "# Find the R^2\n",
        "print('The R-square is: ', lm.score(Z, df['price']))"
      ],
      "metadata": {
        "trusted": true,
        "colab": {
          "base_uri": "https://localhost:8080/",
          "height": 0
        },
        "id": "b0grilnUWRHV",
        "outputId": "9e40c761-7965-4dca-ebca-4d3b1f99a109"
      },
      "execution_count": 57,
      "outputs": [
        {
          "output_type": "stream",
          "name": "stdout",
          "text": [
            "The R-square is:  0.4966263556974878\n"
          ]
        }
      ]
    },
    {
      "cell_type": "markdown",
      "source": [
        "We can say that \\~80.896 % of the variation of price is explained by this multiple linear regression \"multi_fit\".\n"
      ],
      "metadata": {
        "id": "3zvXonS-WRHW"
      }
    },
    {
      "cell_type": "markdown",
      "source": [
        "Let's calculate the MSE.\n"
      ],
      "metadata": {
        "id": "ryDNjB_WWRHW"
      }
    },
    {
      "cell_type": "markdown",
      "source": [
        "We produce a prediction:\n"
      ],
      "metadata": {
        "id": "cosRGQ74WRHW"
      }
    },
    {
      "cell_type": "code",
      "source": [
        "Y_predict_multifit = lm.predict(Z)"
      ],
      "metadata": {
        "trusted": true,
        "id": "g6NLOxhDWRHW"
      },
      "execution_count": 58,
      "outputs": []
    },
    {
      "cell_type": "markdown",
      "source": [
        "We compare the predicted results with the actual results:\n"
      ],
      "metadata": {
        "id": "3VXGFtJSWRHW"
      }
    },
    {
      "cell_type": "code",
      "source": [
        "print('The mean square error of price and predicted value using multifit is: ', \\\n",
        "      mean_squared_error(df['price'], Y_predict_multifit))"
      ],
      "metadata": {
        "trusted": true,
        "colab": {
          "base_uri": "https://localhost:8080/",
          "height": 0
        },
        "id": "yX47NfL1WRHW",
        "outputId": "dd32f295-eeb9-4de0-816c-a63cb2be79d3"
      },
      "execution_count": 59,
      "outputs": [
        {
          "output_type": "stream",
          "name": "stdout",
          "text": [
            "The mean square error of price and predicted value using multifit is:  31632832.975589428\n"
          ]
        }
      ]
    },
    {
      "cell_type": "markdown",
      "source": [
        "<h3>Model 3: Polynomial Fit</h3>\n"
      ],
      "metadata": {
        "id": "WILGb4UQWRHW"
      }
    },
    {
      "cell_type": "markdown",
      "source": [
        "Let's calculate the R^2.\n"
      ],
      "metadata": {
        "id": "9izw6rF7WRHX"
      }
    },
    {
      "cell_type": "markdown",
      "source": [
        "Let’s import the function <b>r2\\_score</b> from the module <b>metrics</b> as we are using a different function.\n"
      ],
      "metadata": {
        "id": "n6bOASXZWRHX"
      }
    },
    {
      "cell_type": "code",
      "source": [
        "from sklearn.metrics import r2_score"
      ],
      "metadata": {
        "trusted": true,
        "id": "ALjfqSq4WRHX"
      },
      "execution_count": 60,
      "outputs": []
    },
    {
      "cell_type": "markdown",
      "source": [
        "We apply the function to get the value of R^2:\n"
      ],
      "metadata": {
        "id": "LyPGSSbcWRHX"
      }
    },
    {
      "cell_type": "code",
      "source": [
        "r_squared = r2_score(y, p(x))\n",
        "print('The R-square value is: ', r_squared)"
      ],
      "metadata": {
        "trusted": true,
        "colab": {
          "base_uri": "https://localhost:8080/",
          "height": 0
        },
        "id": "BQnA1ygNWRHX",
        "outputId": "a5e0278a-55b0-40ac-8f68-5f1592be2171"
      },
      "execution_count": 61,
      "outputs": [
        {
          "output_type": "stream",
          "name": "stdout",
          "text": [
            "The R-square value is:  0.674194666390652\n"
          ]
        }
      ]
    },
    {
      "cell_type": "markdown",
      "source": [
        "We can say that \\~67.419 % of the variation of price is explained by this polynomial fit.\n"
      ],
      "metadata": {
        "id": "dMeEscDqWRHX"
      }
    },
    {
      "cell_type": "markdown",
      "source": [
        "<h3>MSE</h3>\n"
      ],
      "metadata": {
        "id": "h27gqPgIWRHX"
      }
    },
    {
      "cell_type": "markdown",
      "source": [
        "We can also calculate the MSE:\n"
      ],
      "metadata": {
        "id": "RFHVLXqWWRHX"
      }
    },
    {
      "cell_type": "code",
      "source": [
        "mean_squared_error(df['price'], p(x))"
      ],
      "metadata": {
        "trusted": true,
        "colab": {
          "base_uri": "https://localhost:8080/",
          "height": 0
        },
        "id": "nvj8BtOdWRHY",
        "outputId": "257175fa-0cab-4584-9917-e9c648d8fc5a"
      },
      "execution_count": 62,
      "outputs": [
        {
          "output_type": "execute_result",
          "data": {
            "text/plain": [
              "20474146.426361218"
            ]
          },
          "metadata": {},
          "execution_count": 62
        }
      ]
    },
    {
      "cell_type": "markdown",
      "source": [
        "<h2>5. Prediction and Decision Making</h2>\n",
        "<h3>Prediction</h3>\n",
        "\n",
        "<p>In the previous section, we trained the model using the method <b>fit</b>. Now we will use the method <b>predict</b> to produce a prediction. Lets import <b>pyplot</b> for plotting; we will also be using some functions from numpy.</p>\n"
      ],
      "metadata": {
        "id": "21frKosRWRHY"
      }
    },
    {
      "cell_type": "code",
      "source": [
        "import matplotlib.pyplot as plt\n",
        "import numpy as np\n",
        "\n",
        "%matplotlib inline "
      ],
      "metadata": {
        "trusted": true,
        "id": "nkGBWBopWRHY"
      },
      "execution_count": 63,
      "outputs": []
    },
    {
      "cell_type": "markdown",
      "source": [
        "Create a new input:\n"
      ],
      "metadata": {
        "id": "kzFPO_ojWRHY"
      }
    },
    {
      "cell_type": "code",
      "source": [
        "new_input=np.arange(1, 100, 1).reshape(-1, 1)"
      ],
      "metadata": {
        "trusted": true,
        "id": "fVw965E8WRHY"
      },
      "execution_count": 64,
      "outputs": []
    },
    {
      "cell_type": "markdown",
      "source": [
        "Fit the model:\n"
      ],
      "metadata": {
        "id": "pIe0qCLIWRHY"
      }
    },
    {
      "cell_type": "code",
      "source": [
        "lm.fit(X, Y)\n",
        "lm"
      ],
      "metadata": {
        "trusted": true,
        "colab": {
          "base_uri": "https://localhost:8080/",
          "height": 0
        },
        "id": "IdbCLhs1WRHY",
        "outputId": "0ae6fb02-24fc-4213-d3a4-be2b3429d5b1"
      },
      "execution_count": 65,
      "outputs": [
        {
          "output_type": "execute_result",
          "data": {
            "text/plain": [
              "LinearRegression()"
            ]
          },
          "metadata": {},
          "execution_count": 65
        }
      ]
    },
    {
      "cell_type": "markdown",
      "source": [
        "Produce a prediction:\n"
      ],
      "metadata": {
        "id": "cEzV8y02WRHZ"
      }
    },
    {
      "cell_type": "code",
      "source": [
        "yhat=lm.predict(new_input)\n",
        "yhat[0:5]"
      ],
      "metadata": {
        "trusted": true,
        "colab": {
          "base_uri": "https://localhost:8080/",
          "height": 0
        },
        "id": "623udbDAWRHZ",
        "outputId": "3505a1a8-ca96-4556-9b96-f7f8d752834b"
      },
      "execution_count": 66,
      "outputs": [
        {
          "output_type": "execute_result",
          "data": {
            "text/plain": [
              "array([37601.57247984, 36779.83910151, 35958.10572319, 35136.37234487,\n",
              "       34314.63896655])"
            ]
          },
          "metadata": {},
          "execution_count": 66
        }
      ]
    },
    {
      "cell_type": "markdown",
      "source": [
        "We can plot the data:\n"
      ],
      "metadata": {
        "id": "Hw4EIQIAWRHZ"
      }
    },
    {
      "cell_type": "code",
      "source": [
        "plt.plot(new_input, yhat)\n",
        "plt.show()"
      ],
      "metadata": {
        "trusted": true,
        "colab": {
          "base_uri": "https://localhost:8080/",
          "height": 265
        },
        "id": "ulo0xq7xWRHZ",
        "outputId": "6f2fd739-5bdd-48d7-807f-6ff61f450722"
      },
      "execution_count": 67,
      "outputs": [
        {
          "output_type": "display_data",
          "data": {
            "text/plain": [
              "<Figure size 432x288 with 1 Axes>"
            ],
            "image/png": "[encoded data removed]"
          },
          "metadata": {
            "needs_background": "light"
          }
        }
      ]
    },
    {
      "cell_type": "markdown",
      "source": [
        "<h3>Decision Making: Determining a Good Model Fit</h3>\n"
      ],
      "metadata": {
        "id": "ox023szwWRHZ"
      }
    },
    {
      "cell_type": "markdown",
      "source": [
        "<p>Now that we have visualized the different models, and generated the R-squared and MSE values for the fits, how do we determine a good model fit?\n",
        "<ul>\n",
        "    <li><i>What is a good R-squared value?</i></li>\n",
        "</ul>\n",
        "</p>\n",
        "\n",
        "<p>When comparing models, <b>the model with the higher R-squared value is a better fit</b> for the data.\n",
        "<ul>\n",
        "    <li><i>What is a good MSE?</i></li>\n",
        "</ul>\n",
        "</p>\n",
        "\n",
        "<p>When comparing models, <b>the model with the smallest MSE value is a better fit</b> for the data.</p>\n",
        "\n",
        "<h4>Let's take a look at the values for the different models.</h4>\n",
        "<p>Simple Linear Regression: Using Highway-mpg as a Predictor Variable of Price.\n",
        "<ul>\n",
        "    <li>R-squared: 0.49659118843391759</li>\n",
        "    <li>MSE: 3.16 x10^7</li>\n",
        "</ul>\n",
        "</p>\n",
        "\n",
        "<p>Multiple Linear Regression: Using Horsepower, Curb-weight, Engine-size, and Highway-mpg as Predictor Variables of Price.\n",
        "<ul>\n",
        "    <li>R-squared: 0.80896354913783497</li>\n",
        "    <li>MSE: 1.2 x10^7</li>\n",
        "</ul>\n",
        "</p>\n",
        "\n",
        "<p>Polynomial Fit: Using Highway-mpg as a Predictor Variable of Price.\n",
        "<ul>\n",
        "    <li>R-squared: 0.6741946663906514</li>\n",
        "    <li>MSE: 2.05 x 10^7</li>\n",
        "</ul>\n",
        "</p>\n"
      ],
      "metadata": {
        "id": "72jU319FWRHZ"
      }
    },
    {
      "cell_type": "markdown",
      "source": [
        "<h3>Simple Linear Regression Model (SLR) vs Multiple Linear Regression Model (MLR)</h3>\n"
      ],
      "metadata": {
        "id": "7mWXajBJWRHa"
      }
    },
    {
      "cell_type": "markdown",
      "source": [
        "<p>Usually, the more variables you have, the better your model is at predicting, but this is not always true. Sometimes you may not have enough data, you may run into numerical problems, or many of the variables may not be useful and even act as noise. As a result, you should always check the MSE and R^2.</p>\n",
        "\n",
        "<p>In order to compare the results of the MLR vs SLR models, we look at a combination of both the R-squared and MSE to make the best conclusion about the fit of the model.\n",
        "<ul>\n",
        "    <li><b>MSE</b>: The MSE of SLR is  3.16x10^7  while MLR has an MSE of 1.2 x10^7.  The MSE of MLR is much smaller.</li>\n",
        "    <li><b>R-squared</b>: In this case, we can also see that there is a big difference between the R-squared of the SLR and the R-squared of the MLR. The R-squared for the SLR (~0.497) is very small compared to the R-squared for the MLR (~0.809).</li>\n",
        "</ul>\n",
        "</p>\n",
        "\n",
        "This R-squared in combination with the MSE show that MLR seems like the better model fit in this case compared to SLR.\n"
      ],
      "metadata": {
        "id": "09X-swpsWRHa"
      }
    },
    {
      "cell_type": "markdown",
      "source": [
        "<h3>Simple Linear Model (SLR) vs. Polynomial Fit</h3>\n"
      ],
      "metadata": {
        "id": "Lk-7jSiCWRHa"
      }
    },
    {
      "cell_type": "markdown",
      "source": [
        "<ul>\n",
        "    <li><b>MSE</b>: We can see that Polynomial Fit brought down the MSE, since this MSE is smaller than the one from the SLR.</li> \n",
        "    <li><b>R-squared</b>: The R-squared for the Polynomial Fit is larger than the R-squared for the SLR, so the Polynomial Fit also brought up the R-squared quite a bit.</li>\n",
        "</ul>\n",
        "<p>Since the Polynomial Fit resulted in a lower MSE and a higher R-squared, we can conclude that this was a better fit model than the simple linear regression for predicting \"price\" with \"highway-mpg\" as a predictor variable.</p>\n"
      ],
      "metadata": {
        "id": "cmS-cy1tWRHa"
      }
    },
    {
      "cell_type": "markdown",
      "source": [
        "<h3>Multiple Linear Regression (MLR) vs. Polynomial Fit</h3>\n"
      ],
      "metadata": {
        "id": "Mj7gg6zWWRHa"
      }
    },
    {
      "cell_type": "markdown",
      "source": [
        "<ul>\n",
        "    <li><b>MSE</b>: The MSE for the MLR is smaller than the MSE for the Polynomial Fit.</li>\n",
        "    <li><b>R-squared</b>: The R-squared for the MLR is also much larger than for the Polynomial Fit.</li>\n",
        "</ul>\n"
      ],
      "metadata": {
        "id": "nUNHbrM3WRHa"
      }
    },
    {
      "cell_type": "markdown",
      "source": [
        "<h2>Conclusion</h2>\n"
      ],
      "metadata": {
        "id": "3OaIMq1rWRHb"
      }
    },
    {
      "cell_type": "markdown",
      "source": [
        "<p>Comparing these three models, we conclude that <b>the MLR model is the best model</b> to be able to predict price from our dataset. This result makes sense since we have 27 variables in total and we know that more than one of those variables are potential predictors of the final car price.</p>\n"
      ],
      "metadata": {
        "id": "A8j3ZzUDWRHb"
      }
    },
    {
      "cell_type": "markdown",
      "source": [
        "### Thank you for completing this lab!\n",
        "\n",
        "## Author\n",
        "\n",
        "<a href=\"https://www.linkedin.com/in/joseph-s-50398b136/?utm_medium=Exinfluencer&utm_source=Exinfluencer&utm_content=000026UJ&utm_term=10006555&utm_id=NA-SkillsNetwork-Channel-SkillsNetworkCoursesIBMDeveloperSkillsNetworkDA0101ENSkillsNetwork20235326-2021-01-01\" target=\"_blank\">Joseph Santarcangelo</a>\n",
        "\n",
        "### Other Contributors\n",
        "\n",
        "<a href=\"https://www.linkedin.com/in/mahdi-noorian-58219234/?utm_medium=Exinfluencer&utm_source=Exinfluencer&utm_content=000026UJ&utm_term=10006555&utm_id=NA-SkillsNetwork-Channel-SkillsNetworkCoursesIBMDeveloperSkillsNetworkDA0101ENSkillsNetwork20235326-2021-01-01\" target=\"_blank\">Mahdi Noorian PhD</a>\n",
        "\n",
        "Bahare Talayian\n",
        "\n",
        "Eric Xiao\n",
        "\n",
        "Steven Dong\n",
        "\n",
        "Parizad\n",
        "\n",
        "Hima Vasudevan\n",
        "\n",
        "<a href=\"https://www.linkedin.com/in/fiorellawever/?utm_medium=Exinfluencer&utm_source=Exinfluencer&utm_content=000026UJ&utm_term=10006555&utm_id=NA-SkillsNetwork-Channel-SkillsNetworkCoursesIBMDeveloperSkillsNetworkDA0101ENSkillsNetwork20235326-2021-01-01\" target=\"_blank\">Fiorella Wenver</a>\n",
        "\n",
        "<a href=\"https:// https://www.linkedin.com/in/yi-leng-yao-84451275/ \" target=\"_blank\" >Yi Yao</a>.\n",
        "\n",
        "## Change Log\n",
        "\n",
        "| Date (YYYY-MM-DD) | Version | Changed By | Change Description                            |\n",
        "| ----------------- | ------- | ---------- | --------------------------------------------- |\n",
        "| 2022-07-29        | 2.3     | Lakshmi    | Added solution blocks                         |\n",
        "| 2020-10-30        | 2.2     | Lakshmi    | Changed url of csv                            |\n",
        "| 2020-09-09        | 2.1     | Lakshmi    | Fixes made in Polynomial Regression Equations |\n",
        "| 2020-08-27        | 2.0     | Lavanya    | Moved lab to course repo in GitLab            |\n",
        "\n",
        "<hr>\n",
        "\n",
        "## <h3 align=\"center\"> © IBM Corporation 2020. All rights reserved. <h3/>\n"
      ],
      "metadata": {
        "tags": [],
        "id": "bbosE3exWRHb"
      }
    }
  ]
}